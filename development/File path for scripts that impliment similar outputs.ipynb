{
 "cells": [
  {
   "attachments": {},
   "cell_type": "markdown",
   "metadata": {},
   "source": [
    "Author: Rich Winslow - University of California, Berkeley\n",
    "\n",
    "Description: \"Module for processing and analyzing surface height maps from a CSV file.\"\n",
    "produces primary, waviness, and roughness profiles from a CSV containing height information from Olympus LEXT software -from script\n",
    "\n",
    "my interpetation:\n",
    "This is used for a line scan or the 1 d case of surfce roughness. it also impliments a nice means of outputing other surface parameters. It is not what I need and is designed for a whole other system. Not something I want to impliment.\n",
    "\n",
    "github:\n",
    "https://github.com/rwinslow/surface"
   ]
  }
 ],
 "metadata": {
  "language_info": {
   "name": "python"
  },
  "orig_nbformat": 4
 },
 "nbformat": 4,
 "nbformat_minor": 2
}
